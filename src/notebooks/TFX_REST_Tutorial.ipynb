{
 "cells": [
  {
   "cell_type": "code",
   "execution_count": 2,
   "id": "2cf23dfa-6b7f-41ce-b753-d68d1bfb5542",
   "metadata": {
    "pycharm": {
     "name": "#%%\n"
    },
    "slideshow": {
     "slide_type": "skip"
    },
    "tags": []
   },
   "outputs": [],
   "source": [
    "import json\n",
    "import time\n",
    "import os\n",
    "import glob\n",
    "import requests"
   ]
  },
  {
   "cell_type": "code",
   "execution_count": 3,
   "id": "3da22e63",
   "metadata": {
    "pycharm": {
     "name": "#%%\n"
    },
    "slideshow": {
     "slide_type": "skip"
    }
   },
   "outputs": [],
   "source": [
    "os.chdir(\"../../\")"
   ]
  },
  {
   "cell_type": "code",
   "execution_count": 4,
   "id": "8024cc56-48eb-4d6b-9826-a4b5bba5c1b4",
   "metadata": {
    "pycharm": {
     "name": "#%%\n"
    },
    "slideshow": {
     "slide_type": "skip"
    },
    "tags": []
   },
   "outputs": [],
   "source": [
    "from src.utils.test_images import image_links\n",
    "IMAGE_LINKS = image_links"
   ]
  },
  {
   "cell_type": "markdown",
   "id": "eca3a1e3-b8e2-407b-9621-e738567d1376",
   "metadata": {
    "pycharm": {
     "name": "#%% md\n"
    },
    "slideshow": {
     "slide_type": "slide"
    },
    "tags": []
   },
   "source": [
    "## Step 2:  Load Pre-trained Model from TensorFlow Hub"
   ]
  },
  {
   "cell_type": "code",
   "execution_count": 6,
   "id": "537e5d1a-4e22-4926-8d57-7e99f20dc123",
   "metadata": {
    "pycharm": {
     "name": "#%%\n"
    },
    "slideshow": {
     "slide_type": "subslide"
    },
    "tags": []
   },
   "outputs": [],
   "source": [
    "import tensorflow as tf\n",
    "import tensorflow_hub as hub"
   ]
  },
  {
   "cell_type": "code",
   "execution_count": 7,
   "id": "ed0e8574",
   "metadata": {
    "pycharm": {
     "name": "#%%\n"
    }
   },
   "outputs": [],
   "source": [
    "IMAGE_SHAPE = (224, 224)"
   ]
  },
  {
   "cell_type": "code",
   "execution_count": 8,
   "id": "ed1d4c61-badb-4daa-b126-3be507cc5478",
   "metadata": {
    "pycharm": {
     "name": "#%%\n"
    },
    "slideshow": {
     "slide_type": "subslide"
    },
    "tags": []
   },
   "outputs": [],
   "source": [
    "def load_model():\n",
    "    mobilenet_v2 = \"https://tfhub.dev/google/tf2-preview/mobilenet_v2/classification/4\"\n",
    "    classifier_model = mobilenet_v2\n",
    "\n",
    "    classifier = tf.keras.Sequential([\n",
    "        hub.KerasLayer(classifier_model, input_shape=IMAGE_SHAPE + (3,))\n",
    "    ])\n",
    "    print(\"Model loaded\")\n",
    "    return classifier"
   ]
  },
  {
   "cell_type": "markdown",
   "id": "5183bc3c-2e02-4559-977e-511aa5d6aefc",
   "metadata": {
    "pycharm": {
     "name": "#%% md\n"
    },
    "slideshow": {
     "slide_type": "slide"
    }
   },
   "source": [
    "## Step 3: Save the loaded Model"
   ]
  },
  {
   "cell_type": "code",
   "execution_count": 9,
   "id": "6da29dfe-25d2-4280-9b71-d0599f99c1cd",
   "metadata": {
    "pycharm": {
     "name": "#%%\n"
    },
    "slideshow": {
     "slide_type": "subslide"
    }
   },
   "outputs": [],
   "source": [
    "def save_model():\n",
    "    model = load_model()\n",
    "    ts = int(time.time())\n",
    "  \n",
    "    base_file_path = os.getcwd() + \"/img-classifier-tfx/src/models/\"\n",
    "    print(base_file_path)\n",
    "\n",
    "    file_path = base_file_path + str(ts)\n",
    "    model.save(filepath=file_path, save_format='tf')\n",
    "    print(f\"Model Saved under {file_path}\")\n"
   ]
  },
  {
   "cell_type": "code",
   "execution_count": 10,
   "id": "02e8aef4-a16e-47ff-8f3f-72514e1bbc59",
   "metadata": {
    "pycharm": {
     "name": "#%%\n"
    },
    "slideshow": {
     "slide_type": "skip"
    }
   },
   "outputs": [],
   "source": [
    "from src.utils.test_images import image_links\n",
    "from src.utils.utilities import is_dir_exists, is_directory_empty"
   ]
  },
  {
   "cell_type": "code",
   "execution_count": 14,
   "id": "e97ede3f-0508-4cf9-949d-625c78f775ed",
   "metadata": {
    "pycharm": {
     "name": "#%%\n"
    },
    "slideshow": {
     "slide_type": "skip"
    }
   },
   "outputs": [
    {
     "data": {
      "text/plain": [
       "'/home/murali/Documents/img-classifier-tfx-main/src/models'"
      ]
     },
     "execution_count": 14,
     "metadata": {},
     "output_type": "execute_result"
    }
   ],
   "source": [
    "MODEL_LOCATION = \"/home/murali/Documents/img-classifier-tfx-main/src/models\"\n",
    "MODEL_LOCATION"
   ]
  },
  {
   "cell_type": "code",
   "execution_count": 15,
   "id": "8107cc39-e512-4e1a-8a4a-45e88ccae90e",
   "metadata": {
    "pycharm": {
     "name": "#%%\n"
    },
    "slideshow": {
     "slide_type": "skip"
    }
   },
   "outputs": [
    {
     "name": "stdout",
     "output_type": "stream",
     "text": [
      "Model exists\n"
     ]
    }
   ],
   "source": [
    "if not is_dir_exists(MODEL_LOCATION):\n",
    "    # Create a new directory because it does not exist\n",
    "    os.makedirs(MODEL_LOCATION)\n",
    "if is_directory_empty(MODEL_LOCATION):\n",
    "    # Load and save the model when pre-loaded model does not exist\n",
    "    save_model()\n",
    "else:\n",
    "    print(\"Model exists\")\n"
   ]
  },
  {
   "cell_type": "markdown",
   "id": "7d8114b5-0432-4f3a-a639-f4493f9065eb",
   "metadata": {
    "pycharm": {
     "name": "#%% md\n"
    },
    "slideshow": {
     "slide_type": "slide"
    }
   },
   "source": [
    "## Step 4: Serve TF Model using TF Serving"
   ]
  },
  {
   "cell_type": "code",
   "execution_count": 16,
   "id": "39d4befd-75c7-4314-ab86-95e214ac4081",
   "metadata": {
    "pycharm": {
     "name": "#%%\n"
    },
    "slideshow": {
     "slide_type": "skip"
    }
   },
   "outputs": [],
   "source": [
    "from src.app.tf_serve import preprocess_image, decode_predictions\n",
    "\n",
    "\n"
   ]
  },
  {
   "cell_type": "code",
   "execution_count": 17,
   "id": "63459eaf",
   "metadata": {},
   "outputs": [],
   "source": [
    "from src.app.tf_serve import get_model_name\n"
   ]
  },
  {
   "cell_type": "code",
   "execution_count": 19,
   "id": "e2d27793-3347-4b1c-835a-c72a49c652d4",
   "metadata": {
    "pycharm": {
     "name": "#%%\n"
    },
    "slideshow": {
     "slide_type": "subslide"
    }
   },
   "outputs": [
    {
     "data": {
      "text/plain": [
       "'http://localhost:8501/v1/models/1702385256:predict'"
      ]
     },
     "execution_count": 19,
     "metadata": {},
     "output_type": "execute_result"
    }
   ],
   "source": [
    "model_name = get_model_name(MODEL_LOCATION)\n",
    "# URL at which the model is being served\n",
    "URL = f'http://localhost:8501/v1/models/{model_name}:predict'\n",
    "URL"
   ]
  },
  {
   "cell_type": "code",
   "execution_count": null,
   "id": "a333476f",
   "metadata": {},
   "outputs": [],
   "source": []
  },
  {
   "cell_type": "code",
   "execution_count": 79,
   "id": "4f507e05-a30f-4ad8-be66-ea4ea68a9cd9",
   "metadata": {
    "pycharm": {
     "name": "#%%\n"
    },
    "slideshow": {
     "slide_type": "subslide"
    }
   },
   "outputs": [],
   "source": [
    "\n",
    "def serve_rest(img_url):\n",
    "    img = preprocess_image(img_url)\n",
    "    print(\"Img preprocessing done!\")\n",
    "    \n",
    "    data = json.dumps({\"signature_name\": \"serving_default\", \"instances\": img.tolist()})\n",
    "    headers = {\"content-type\": \"application/json\"}\n",
    "    \n",
    "    json_response = requests.post(URL, data=data, headers=headers)\n",
    "    \n",
    "    predictions = json.loads(json_response.text)['predictions']\n",
    "    \n",
    "    results = decode_predictions(predictions)\n",
    "    print(\"predictions decoded\")\n",
    "    \n",
    "    return results\n"
   ]
  },
  {
   "cell_type": "markdown",
   "id": "6983b543",
   "metadata": {
    "pycharm": {
     "name": "#%% md\n"
    },
    "slideshow": {
     "slide_type": "subslide"
    }
   },
   "source": [
    "## Step 5: Run TF Serving\n"
   ]
  },
  {
   "cell_type": "markdown",
   "id": "53285ba9",
   "metadata": {
    "pycharm": {
     "name": "#%% md\n"
    },
    "slideshow": {
     "slide_type": "slide"
    }
   },
   "source": [
    "## Predict Results"
   ]
  },
  {
   "cell_type": "code",
   "execution_count": 80,
   "id": "ef6875f3-27ae-434a-a7d9-06768df5a446",
   "metadata": {
    "pycharm": {
     "name": "#%%\n"
    },
    "slideshow": {
     "slide_type": "subslide"
    }
   },
   "outputs": [
    {
     "name": "stdout",
     "output_type": "stream",
     "text": [
      "Image Link: https://github.com/pytorch/hub/raw/master/images/dog.jpg\n",
      "Img preprocessing done!\n",
      "Downloading data from https://storage.googleapis.com/download.tensorflow.org/data/ImageNetLabels.txt\n",
      "10484/10484 [==============================] - 0s 8us/step\n",
      "predictions decoded\n",
      "{'predicted_label': 'Samoyed', 'probability': 0.6407572031021118}\n",
      "\n",
      "Image Link: https://upload.wikimedia.org/wikipedia/commons/thumb/3/3a/Cat03.jpg/1200px-Cat03.jpg\n",
      "Img preprocessing done!\n",
      "predictions decoded\n",
      "{'predicted_label': 'tiger cat', 'probability': 0.6095588803291321}\n",
      "\n",
      "Image Link: https://media.istockphoto.com/photos/hen-picture-id831791190?k=20&m=831791190&s=170667a&w=0&h=pT2buEaMcxE5Wm4hQz-pXl0Zv-0DdpSMwpDzVcpcKyo=\n",
      "Img preprocessing done!\n",
      "predictions decoded\n",
      "{'predicted_label': 'hen', 'probability': 0.9590941071510315}\n",
      "\n"
     ]
    }
   ],
   "source": [
    "\n",
    "for IMAGE_LINK in IMAGE_LINKS:\n",
    "        image_url = IMAGE_LINK[\"url\"]\n",
    "        print(f\"Image Link: {image_url}\")\n",
    "        res = serve_rest(image_url)\n",
    "        print(res)\n",
    "        print()\n",
    "    \n",
    "       \n"
   ]
  }
 ],
 "metadata": {
  "kernelspec": {
   "display_name": "Python 3 (ipykernel)",
   "language": "python",
   "name": "python3"
  },
  "language_info": {
   "codemirror_mode": {
    "name": "ipython",
    "version": 3
   },
   "file_extension": ".py",
   "mimetype": "text/x-python",
   "name": "python",
   "nbconvert_exporter": "python",
   "pygments_lexer": "ipython3",
   "version": "3.8.10"
  }
 },
 "nbformat": 4,
 "nbformat_minor": 5
}
